{
 "cells": [
  {
   "cell_type": "code",
   "execution_count": 1,
   "metadata": {},
   "outputs": [],
   "source": [
    "import json\n",
    "import pandas as pd\n",
    "\n",
    "import string\n",
    "from nltk.corpus import stopwords\n",
    "\n",
    "import gensim\n",
    "import nltk\n",
    "from nltk.stem.snowball import SnowballStemmer\n",
    "from nltk.stem import WordNetLemmatizer\n",
    "from nltk.stem.porter import *\n",
    "from nltk.tokenize import TweetTokenizer, RegexpTokenizer\n",
    "\n",
    "from sklearn.feature_extraction.text import CountVectorizer, TfidfVectorizer\n",
    "from sklearn.feature_extraction.text import ENGLISH_STOP_WORDS"
   ]
  },
  {
   "cell_type": "code",
   "execution_count": 2,
   "metadata": {},
   "outputs": [],
   "source": [
    "# Stopwords\n",
    "stopwords = list(set(gensim.parsing.preprocessing.STOPWORDS))  # here I use gensim stop words\n",
    "add_stop = ['said', 'say', 'like', 'cnn', 'thi', 'try', 'menu', 'dish', 'special', 'fyi', 'good', 'nyc', 'think']\n",
    "rmv_all = list(set(stopwords + add_stop))"
   ]
  },
  {
   "cell_type": "code",
   "execution_count": 4,
   "metadata": {},
   "outputs": [],
   "source": [
    "# Contraction\n",
    "c_dict = { \"'s\": \" is\", \"'re\": \" are\", \"'ve\": \" have\", \"'ll\": \" will\", \n",
    "          \"ain't\": \"am not\", \"aren't\": \"are not\", \"can't\": \"cannot\", \n",
    "          \"couldn't\": \"could not\", \"didn't\": \"did not\",\"doesn't\": \"does not\",\n",
    "          \"don't\": \"do not\", \"hadn't\": \"had not\", \"hasn't\": \"has not\",\"haven't\": \"have not\",\"he'd\": \"he would\",\n",
    "          \"how'd\": \"how did\", \"i'd\": \"I would\", \"i'm\": \"i am\", \"isn't\": \"is not\", \"it'd\": \"it had\",\n",
    "          \"let's\": \"let us\", \"mayn't\": \"may not\", \"mightn't\": \"might not\",\n",
    "          \"must've\": \"must have\", \"mustn't\": \"must not\", \"needn't\": \"need not\", \"oughtn't\": \"ought not\",\n",
    "          \"she'd\": \"she would\", \"shouldn't\": \"should not\", \"that'd\": \"that would\", \"there'd\": \"there had\", \"they'd\": \"they would\",  \n",
    "          \"wasn't\": \"was not\", \"weren't\": \"were not\", \"won't\": \"will not\", \"wouldn't\": \"would not\", \"y'all\": \"you all\",\n",
    "          \"you'd\": \"you had\",\n",
    "}\n",
    "\n",
    "# compile the contraction dictionary\n",
    "c_re = re.compile('(%s)' % '|'.join(c_dict.keys()))\n",
    "def expand_contractions(text, c_re = c_re):\n",
    "    def replace(match):\n",
    "        return c_dict[match.group(0)]\n",
    "    return c_re.sub(replace, text)"
   ]
  },
  {
   "cell_type": "code",
   "execution_count": 5,
   "metadata": {},
   "outputs": [],
   "source": [
    "# Text cleaning\n",
    "def process_text(text):\n",
    "    # remove some new line characters\n",
    "    text = text.replace('\\xa0', ' ').replace('\\n', ' ')\n",
    "    # convert to lower case\n",
    "    text = text.lower()\n",
    "    # expand contractions\n",
    "    text = expand_contractions(text, c_re)\n",
    "    # remove other characters and punctuations\n",
    "    text = re.sub(r'[^A-Za-z]+', ' ', text)\n",
    "    # remove stopwords, only remain words more than 2 characters\n",
    "    text = ' '.join(word for word in text.split() if word not in rmv_all and len(word) > 2)\n",
    "    return text"
   ]
  },
  {
   "cell_type": "code",
   "execution_count": 6,
   "metadata": {},
   "outputs": [],
   "source": [
    "# Tokenization and Lemmatization\n",
    "lemmatizer = WordNetLemmatizer()\n",
    "def token_lemma(text):\n",
    "    tokenizer = TweetTokenizer()\n",
    "    tokens = tokenizer.tokenize(text)\n",
    "    words = [lemmatizer.lemmatize(token) for token in tokens]\n",
    "    return ' '.join(words)"
   ]
  },
  {
   "cell_type": "markdown",
   "metadata": {},
   "source": [
    "### Read CSV"
   ]
  },
  {
   "cell_type": "code",
   "execution_count": 7,
   "metadata": {},
   "outputs": [
    {
     "data": {
      "text/html": [
       "<div>\n",
       "<style scoped>\n",
       "    .dataframe tbody tr th:only-of-type {\n",
       "        vertical-align: middle;\n",
       "    }\n",
       "\n",
       "    .dataframe tbody tr th {\n",
       "        vertical-align: top;\n",
       "    }\n",
       "\n",
       "    .dataframe thead th {\n",
       "        text-align: right;\n",
       "    }\n",
       "</style>\n",
       "<table border=\"1\" class=\"dataframe\">\n",
       "  <thead>\n",
       "    <tr style=\"text-align: right;\">\n",
       "      <th></th>\n",
       "      <th>name</th>\n",
       "      <th>review</th>\n",
       "    </tr>\n",
       "  </thead>\n",
       "  <tbody>\n",
       "    <tr>\n",
       "      <th>0</th>\n",
       "      <td>Thursday Kitchen</td>\n",
       "      <td>I'll start with saying their outdoor seating i...</td>\n",
       "    </tr>\n",
       "    <tr>\n",
       "      <th>1</th>\n",
       "      <td>Thursday Kitchen</td>\n",
       "      <td>This spot did not disappoint! These tapas were...</td>\n",
       "    </tr>\n",
       "    <tr>\n",
       "      <th>2</th>\n",
       "      <td>Thursday Kitchen</td>\n",
       "      <td>This NYC gem was just a magical birthday celeb...</td>\n",
       "    </tr>\n",
       "    <tr>\n",
       "      <th>3</th>\n",
       "      <td>Thursday Kitchen</td>\n",
       "      <td>Did my extensive research on yelp and have alw...</td>\n",
       "    </tr>\n",
       "    <tr>\n",
       "      <th>4</th>\n",
       "      <td>Thursday Kitchen</td>\n",
       "      <td>I've been wanting to try this place, but every...</td>\n",
       "    </tr>\n",
       "  </tbody>\n",
       "</table>\n",
       "</div>"
      ],
      "text/plain": [
       "               name                                             review\n",
       "0  Thursday Kitchen  I'll start with saying their outdoor seating i...\n",
       "1  Thursday Kitchen  This spot did not disappoint! These tapas were...\n",
       "2  Thursday Kitchen  This NYC gem was just a magical birthday celeb...\n",
       "3  Thursday Kitchen  Did my extensive research on yelp and have alw...\n",
       "4  Thursday Kitchen  I've been wanting to try this place, but every..."
      ]
     },
     "execution_count": 7,
     "metadata": {},
     "output_type": "execute_result"
    }
   ],
   "source": [
    "# 这部分读进去的文件，把路径修改成你们的file path\n",
    "df = pd.read_csv('/Users/liqingran/Desktop/part1.csv')\n",
    "df.head()"
   ]
  },
  {
   "cell_type": "code",
   "execution_count": 8,
   "metadata": {},
   "outputs": [
    {
     "data": {
      "text/html": [
       "<div>\n",
       "<style scoped>\n",
       "    .dataframe tbody tr th:only-of-type {\n",
       "        vertical-align: middle;\n",
       "    }\n",
       "\n",
       "    .dataframe tbody tr th {\n",
       "        vertical-align: top;\n",
       "    }\n",
       "\n",
       "    .dataframe thead th {\n",
       "        text-align: right;\n",
       "    }\n",
       "</style>\n",
       "<table border=\"1\" class=\"dataframe\">\n",
       "  <thead>\n",
       "    <tr style=\"text-align: right;\">\n",
       "      <th></th>\n",
       "      <th>name</th>\n",
       "      <th>review</th>\n",
       "    </tr>\n",
       "  </thead>\n",
       "  <tbody>\n",
       "    <tr>\n",
       "      <th>26532</th>\n",
       "      <td>Aunt Jake's</td>\n",
       "      <td>The best Italian food I had outside of Italy!\\...</td>\n",
       "    </tr>\n",
       "    <tr>\n",
       "      <th>26533</th>\n",
       "      <td>Aunt Jake's</td>\n",
       "      <td>This place was absolutely amazing. My friends ...</td>\n",
       "    </tr>\n",
       "    <tr>\n",
       "      <th>26534</th>\n",
       "      <td>Aunt Jake's</td>\n",
       "      <td>My daughter and stopped in for lunch while in ...</td>\n",
       "    </tr>\n",
       "    <tr>\n",
       "      <th>26535</th>\n",
       "      <td>Aunt Jake's</td>\n",
       "      <td>Enjoyed lasagna and chicken parm. Sauces was g...</td>\n",
       "    </tr>\n",
       "    <tr>\n",
       "      <th>26536</th>\n",
       "      <td>Aunt Jake's</td>\n",
       "      <td>I came here for the first time because I heard...</td>\n",
       "    </tr>\n",
       "  </tbody>\n",
       "</table>\n",
       "</div>"
      ],
      "text/plain": [
       "              name                                             review\n",
       "26532  Aunt Jake's  The best Italian food I had outside of Italy!\\...\n",
       "26533  Aunt Jake's  This place was absolutely amazing. My friends ...\n",
       "26534  Aunt Jake's  My daughter and stopped in for lunch while in ...\n",
       "26535  Aunt Jake's  Enjoyed lasagna and chicken parm. Sauces was g...\n",
       "26536  Aunt Jake's  I came here for the first time because I heard..."
      ]
     },
     "execution_count": 8,
     "metadata": {},
     "output_type": "execute_result"
    }
   ],
   "source": [
    "df.tail()"
   ]
  },
  {
   "cell_type": "markdown",
   "metadata": {},
   "source": [
    "### Text Cleaning and Manipulation"
   ]
  },
  {
   "cell_type": "code",
   "execution_count": 9,
   "metadata": {},
   "outputs": [
    {
     "data": {
      "text/html": [
       "<div>\n",
       "<style scoped>\n",
       "    .dataframe tbody tr th:only-of-type {\n",
       "        vertical-align: middle;\n",
       "    }\n",
       "\n",
       "    .dataframe tbody tr th {\n",
       "        vertical-align: top;\n",
       "    }\n",
       "\n",
       "    .dataframe thead th {\n",
       "        text-align: right;\n",
       "    }\n",
       "</style>\n",
       "<table border=\"1\" class=\"dataframe\">\n",
       "  <thead>\n",
       "    <tr style=\"text-align: right;\">\n",
       "      <th></th>\n",
       "      <th>name</th>\n",
       "      <th>review</th>\n",
       "      <th>cleaned_review</th>\n",
       "    </tr>\n",
       "  </thead>\n",
       "  <tbody>\n",
       "    <tr>\n",
       "      <th>0</th>\n",
       "      <td>Thursday Kitchen</td>\n",
       "      <td>I'll start with saying their outdoor seating i...</td>\n",
       "      <td>start saying outdoor seating true accomplishme...</td>\n",
       "    </tr>\n",
       "    <tr>\n",
       "      <th>1</th>\n",
       "      <td>Thursday Kitchen</td>\n",
       "      <td>This spot did not disappoint! These tapas were...</td>\n",
       "      <td>spot disappoint tapa right friend dish packed ...</td>\n",
       "    </tr>\n",
       "    <tr>\n",
       "      <th>2</th>\n",
       "      <td>Thursday Kitchen</td>\n",
       "      <td>This NYC gem was just a magical birthday celeb...</td>\n",
       "      <td>gem magical birthday celebration evening opene...</td>\n",
       "    </tr>\n",
       "    <tr>\n",
       "      <th>3</th>\n",
       "      <td>Thursday Kitchen</td>\n",
       "      <td>Did my extensive research on yelp and have alw...</td>\n",
       "      <td>extensive research yelp wanted place review gl...</td>\n",
       "    </tr>\n",
       "    <tr>\n",
       "      <th>4</th>\n",
       "      <td>Thursday Kitchen</td>\n",
       "      <td>I've been wanting to try this place, but every...</td>\n",
       "      <td>wanting place time wait crazy long finally col...</td>\n",
       "    </tr>\n",
       "  </tbody>\n",
       "</table>\n",
       "</div>"
      ],
      "text/plain": [
       "               name                                             review  \\\n",
       "0  Thursday Kitchen  I'll start with saying their outdoor seating i...   \n",
       "1  Thursday Kitchen  This spot did not disappoint! These tapas were...   \n",
       "2  Thursday Kitchen  This NYC gem was just a magical birthday celeb...   \n",
       "3  Thursday Kitchen  Did my extensive research on yelp and have alw...   \n",
       "4  Thursday Kitchen  I've been wanting to try this place, but every...   \n",
       "\n",
       "                                      cleaned_review  \n",
       "0  start saying outdoor seating true accomplishme...  \n",
       "1  spot disappoint tapa right friend dish packed ...  \n",
       "2  gem magical birthday celebration evening opene...  \n",
       "3  extensive research yelp wanted place review gl...  \n",
       "4  wanting place time wait crazy long finally col...  "
      ]
     },
     "execution_count": 9,
     "metadata": {},
     "output_type": "execute_result"
    }
   ],
   "source": [
    "df['cleaned_review'] = df['review'].apply(process_text)\n",
    "df['cleaned_review'] = df['cleaned_review'].apply(token_lemma)\n",
    "df.head()"
   ]
  },
  {
   "cell_type": "code",
   "execution_count": 10,
   "metadata": {},
   "outputs": [],
   "source": [
    "def find_length(text):\n",
    "    length = len(text.split())\n",
    "    return length"
   ]
  },
  {
   "cell_type": "markdown",
   "metadata": {},
   "source": [
    "合并：把同一个餐厅的所有review汇总起来，一条餐厅对应一条record。"
   ]
  },
  {
   "cell_type": "code",
   "execution_count": 11,
   "metadata": {},
   "outputs": [
    {
     "data": {
      "text/html": [
       "<div>\n",
       "<style scoped>\n",
       "    .dataframe tbody tr th:only-of-type {\n",
       "        vertical-align: middle;\n",
       "    }\n",
       "\n",
       "    .dataframe tbody tr th {\n",
       "        vertical-align: top;\n",
       "    }\n",
       "\n",
       "    .dataframe thead th {\n",
       "        text-align: right;\n",
       "    }\n",
       "</style>\n",
       "<table border=\"1\" class=\"dataframe\">\n",
       "  <thead>\n",
       "    <tr style=\"text-align: right;\">\n",
       "      <th></th>\n",
       "      <th>name</th>\n",
       "      <th>cleaned_review</th>\n",
       "      <th>length</th>\n",
       "    </tr>\n",
       "  </thead>\n",
       "  <tbody>\n",
       "    <tr>\n",
       "      <th>0</th>\n",
       "      <td>12 Chairs</td>\n",
       "      <td>beautiful place sun start shine macdougal outd...</td>\n",
       "      <td>3633</td>\n",
       "    </tr>\n",
       "    <tr>\n",
       "      <th>1</th>\n",
       "      <td>12 Chairs Cafe</td>\n",
       "      <td>stopped late mid week brunch super busy got se...</td>\n",
       "      <td>4014</td>\n",
       "    </tr>\n",
       "    <tr>\n",
       "      <th>2</th>\n",
       "      <td>1803</td>\n",
       "      <td>friend booked reservation spot dinner got hung...</td>\n",
       "      <td>4653</td>\n",
       "    </tr>\n",
       "    <tr>\n",
       "      <th>3</th>\n",
       "      <td>3 Times 茅庐</td>\n",
       "      <td>time time excellent dumpling pre order frozen ...</td>\n",
       "      <td>8276</td>\n",
       "    </tr>\n",
       "    <tr>\n",
       "      <th>4</th>\n",
       "      <td>5ive Spice</td>\n",
       "      <td>place super amazing customer service notch foo...</td>\n",
       "      <td>8263</td>\n",
       "    </tr>\n",
       "    <tr>\n",
       "      <th>...</th>\n",
       "      <td>...</td>\n",
       "      <td>...</td>\n",
       "      <td>...</td>\n",
       "    </tr>\n",
       "    <tr>\n",
       "      <th>308</th>\n",
       "      <td>Yin Ji Chang Fen Rice Roll</td>\n",
       "      <td>coming tried cheung fun place past day yin com...</td>\n",
       "      <td>6327</td>\n",
       "    </tr>\n",
       "    <tr>\n",
       "      <th>309</th>\n",
       "      <td>Zyara NY</td>\n",
       "      <td>zyara hidden gem walking le min monday morning...</td>\n",
       "      <td>3312</td>\n",
       "    </tr>\n",
       "    <tr>\n",
       "      <th>310</th>\n",
       "      <td>hanon</td>\n",
       "      <td>japan born friend wife thought place favorite ...</td>\n",
       "      <td>5898</td>\n",
       "    </tr>\n",
       "    <tr>\n",
       "      <th>311</th>\n",
       "      <td>nonono</td>\n",
       "      <td>nonono cute trendy date night gem opened indoo...</td>\n",
       "      <td>5714</td>\n",
       "    </tr>\n",
       "    <tr>\n",
       "      <th>312</th>\n",
       "      <td>shabushabu Mayumon</td>\n",
       "      <td>lucky able dine shabushabu mayumon dining clos...</td>\n",
       "      <td>1216</td>\n",
       "    </tr>\n",
       "  </tbody>\n",
       "</table>\n",
       "<p>313 rows × 3 columns</p>\n",
       "</div>"
      ],
      "text/plain": [
       "                           name  \\\n",
       "0                     12 Chairs   \n",
       "1                12 Chairs Cafe   \n",
       "2                          1803   \n",
       "3                    3 Times 茅庐   \n",
       "4                    5ive Spice   \n",
       "..                          ...   \n",
       "308  Yin Ji Chang Fen Rice Roll   \n",
       "309                    Zyara NY   \n",
       "310                       hanon   \n",
       "311                      nonono   \n",
       "312          shabushabu Mayumon   \n",
       "\n",
       "                                        cleaned_review  length  \n",
       "0    beautiful place sun start shine macdougal outd...    3633  \n",
       "1    stopped late mid week brunch super busy got se...    4014  \n",
       "2    friend booked reservation spot dinner got hung...    4653  \n",
       "3    time time excellent dumpling pre order frozen ...    8276  \n",
       "4    place super amazing customer service notch foo...    8263  \n",
       "..                                                 ...     ...  \n",
       "308  coming tried cheung fun place past day yin com...    6327  \n",
       "309  zyara hidden gem walking le min monday morning...    3312  \n",
       "310  japan born friend wife thought place favorite ...    5898  \n",
       "311  nonono cute trendy date night gem opened indoo...    5714  \n",
       "312  lucky able dine shabushabu mayumon dining clos...    1216  \n",
       "\n",
       "[313 rows x 3 columns]"
      ]
     },
     "execution_count": 11,
     "metadata": {},
     "output_type": "execute_result"
    }
   ],
   "source": [
    "grouping = pd.DataFrame(df.groupby('name')['cleaned_review'].sum()).reset_index()\n",
    "grouping['length'] = grouping['cleaned_review'].apply(find_length)\n",
    "grouping"
   ]
  },
  {
   "cell_type": "markdown",
   "metadata": {},
   "source": [
    "保存文件。"
   ]
  },
  {
   "cell_type": "code",
   "execution_count": 13,
   "metadata": {},
   "outputs": [],
   "source": [
    "grouping.to_csv('cleaned_file_part1.csv', index=False)"
   ]
  },
  {
   "cell_type": "code",
   "execution_count": null,
   "metadata": {},
   "outputs": [],
   "source": []
  }
 ],
 "metadata": {
  "kernelspec": {
   "display_name": "Python 3",
   "language": "python",
   "name": "python3"
  },
  "language_info": {
   "codemirror_mode": {
    "name": "ipython",
    "version": 3
   },
   "file_extension": ".py",
   "mimetype": "text/x-python",
   "name": "python",
   "nbconvert_exporter": "python",
   "pygments_lexer": "ipython3",
   "version": "3.8.5"
  }
 },
 "nbformat": 4,
 "nbformat_minor": 4
}
